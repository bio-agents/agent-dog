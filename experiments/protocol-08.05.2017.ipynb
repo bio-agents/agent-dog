{
 "cells": [
  {
   "cell_type": "markdown",
   "metadata": {},
   "source": [
    "# Protocol of experiments 08.05.2017"
   ]
  },
  {
   "cell_type": "markdown",
   "metadata": {},
   "source": [
    "__Goal:__ Provide proof of concept and working example for the idea of running AgentDog analyser in the Docker container"
   ]
  },
  {
   "cell_type": "markdown",
   "metadata": {},
   "source": [
    "__Requirements:__\n",
    "1. Installed [Docker](https://store.docker.com/search?type=edition&offering=community)\n",
    "1. Installed Python3, pip\n",
    "\n",
    "    "
   ]
  },
  {
   "cell_type": "markdown",
   "metadata": {},
   "source": [
    "First, we import a library for running bash commands from Python code."
   ]
  },
  {
   "cell_type": "code",
   "execution_count": 1,
   "metadata": {
    "collapsed": true
   },
   "outputs": [],
   "source": [
    "import subprocess"
   ]
  },
  {
   "cell_type": "markdown",
   "metadata": {},
   "source": [
    "Then we define two util functions."
   ]
  },
  {
   "cell_type": "markdown",
   "metadata": {},
   "source": [
    "First one if for running bash command."
   ]
  },
  {
   "cell_type": "code",
   "execution_count": 2,
   "metadata": {
    "collapsed": true
   },
   "outputs": [],
   "source": [
    "def run_command(command):\n",
    "    \"\"\"Run bash command and return the result\n",
    "\n",
    "    :param str command: String representation of bash command\n",
    "    \n",
    "    :return: Returns a generator of output of the result of running bash command in bytes\n",
    "    :rtype: iter\n",
    "    \"\"\"\n",
    "    command = command.split()\n",
    "    p = subprocess.Popen(command,\n",
    "                         stdout=subprocess.PIPE,\n",
    "                         stderr=subprocess.STDOUT)\n",
    "    return iter(p.stdout.readline, b'')"
   ]
  },
  {
   "cell_type": "markdown",
   "metadata": {},
   "source": [
    "Second one is for writing string in the file."
   ]
  },
  {
   "cell_type": "code",
   "execution_count": 87,
   "metadata": {
    "collapsed": true
   },
   "outputs": [],
   "source": [
    "def write_to_file(filename, string = ''):\n",
    "    \"\"\"Write string to file\n",
    "\n",
    "    :param str filename: Filename\n",
    "    :param str string: String to write\n",
    "    \"\"\"\n",
    "    f = open(filename, 'w')\n",
    "    f.write(string)\n",
    "    f.close()"
   ]
  },
  {
   "cell_type": "markdown",
   "metadata": {},
   "source": [
    "Than we define some constants for future use."
   ]
  },
  {
   "cell_type": "code",
   "execution_count": 88,
   "metadata": {
    "collapsed": true
   },
   "outputs": [],
   "source": [
    "PYTHON_VERSION = 2 # version of python agent"
   ]
  },
  {
   "cell_type": "code",
   "execution_count": 89,
   "metadata": {
    "collapsed": true
   },
   "outputs": [],
   "source": [
    "TOOL_NAME = 'alignment' # name of the agent, assuming it is available via PyPi"
   ]
  },
  {
   "cell_type": "code",
   "execution_count": 90,
   "metadata": {
    "collapsed": true
   },
   "outputs": [],
   "source": [
    "OUTPUT_FORMAT = 'cwl' # output: cwl / xml"
   ]
  },
  {
   "cell_type": "code",
   "execution_count": 91,
   "metadata": {
    "collapsed": true
   },
   "outputs": [],
   "source": [
    "OUTPUT_FILENAME = TOOL_NAME + \".\" + OUTPUT_FORMAT # output filename"
   ]
  },
  {
   "cell_type": "code",
   "execution_count": 92,
   "metadata": {
    "collapsed": true
   },
   "outputs": [],
   "source": [
    "PYTHON_PATH = \"/usr/local/lib/python3.5/dist-packages/\" if PYTHON_VERSION == 3 else \\\n",
    "\"/usr/local/lib/python2.7/dist-packages/\" # PYTHONPATH, required for argparse2agent"
   ]
  },
  {
   "cell_type": "markdown",
   "metadata": {},
   "source": [
    "Compose bash command for running detached docker container from [agentdog-analyser-sandbox](https://hub.docker.com/r/inkuzm/agentdog-analyser-sandbox/) image, that will be destroyed after stopping."
   ]
  },
  {
   "cell_type": "code",
   "execution_count": 93,
   "metadata": {
    "collapsed": true
   },
   "outputs": [],
   "source": [
    "cmd = 'docker run -d -e PYTHONPATH=' + PYTHON_PATH + ' --rm inkuzm/agentdog-analyser-sandbox tail -f /dev/null'"
   ]
  },
  {
   "cell_type": "markdown",
   "metadata": {},
   "source": [
    "Save container ID for future use."
   ]
  },
  {
   "cell_type": "code",
   "execution_count": 94,
   "metadata": {},
   "outputs": [
    {
     "name": "stdout",
     "output_type": "stream",
     "text": [
      "bd47bbd3272a48739f8afadae8d24723a0508e330f41715cba60fe4dad953936\n"
     ]
    }
   ],
   "source": [
    "CONTAINER_ID = \"\"\n",
    "for line in run_command(cmd):\n",
    "    CONTAINER_ID = line.decode(\"utf-8\")[:-1]\n",
    "    print(CONTAINER_ID)"
   ]
  },
  {
   "cell_type": "markdown",
   "metadata": {},
   "source": [
    "Yay! Now we can do stuff inside the container."
   ]
  },
  {
   "cell_type": "markdown",
   "metadata": {},
   "source": [
    "Let's define one more util function for running commands inside the created container."
   ]
  },
  {
   "cell_type": "code",
   "execution_count": 95,
   "metadata": {
    "collapsed": true
   },
   "outputs": [],
   "source": [
    "def exec_command_in_container(command, cid):\n",
    "    \"\"\"Run bash command inside container cid\n",
    "\n",
    "    :param str command: String representation of bash command\n",
    "    \n",
    "    :return: Returns a generator of output of the result of running bash command in bytes\n",
    "    :rtype: iter\n",
    "    \"\"\"  \n",
    "    cmd = 'docker exec ' + cid + ' ' + command\n",
    "    return run_command(cmd)"
   ]
  },
  {
   "cell_type": "markdown",
   "metadata": {},
   "source": [
    "We install argparse2agent:"
   ]
  },
  {
   "cell_type": "code",
   "execution_count": 96,
   "metadata": {},
   "outputs": [
    {
     "name": "stdout",
     "output_type": "stream",
     "text": [
      "Collecting argparse2agent\n",
      "  Downloading argparse2agent-0.4.3.post2.tar.gz\n",
      "Collecting galaxyxml>=0.2.3 (from argparse2agent)\n",
      "  Downloading galaxyxml-0.4.0.tar.gz\n",
      "Collecting jinja2 (from argparse2agent)\n",
      "  Downloading Jinja2-2.9.6-py2.py3-none-any.whl (340kB)\n",
      "Collecting future (from argparse2agent)\n",
      "  Downloading future-0.16.0.tar.gz (824kB)\n",
      "Collecting lxml (from galaxyxml>=0.2.3->argparse2agent)\n",
      "  Downloading lxml-3.7.3-cp35-cp35m-manylinux1_x86_64.whl (7.1MB)\n",
      "Collecting MarkupSafe>=0.23 (from jinja2->argparse2agent)\n",
      "  Downloading MarkupSafe-1.0.tar.gz\n",
      "Building wheels for collected packages: argparse2agent, galaxyxml, future, MarkupSafe\n",
      "  Running setup.py bdist_wheel for argparse2agent: started\n",
      "  Running setup.py bdist_wheel for argparse2agent: finished with status 'error'\n",
      "  Complete output from command /usr/bin/python3 -u -c \"import setupagents, tokenize;__file__='/tmp/pip-build-0do37j9w/argparse2agent/setup.py';f=getattr(tokenize, 'open', open)(__file__);code=f.read().replace('\\r\\n', '\\n');f.close();exec(compile(code, __file__, 'exec'))\" bdist_wheel -d /tmp/tmplqq66w3xpip-wheel- --python-tag cp35:\n",
      "  /usr/lib/python3/dist-packages/setupagents/dist.py:285: UserWarning: Normalizing '0.4.3-2' to '0.4.3.post2'\n",
      "    normalized_version,\n",
      "  running bdist_wheel\n",
      "  running build\n",
      "  running build_py\n",
      "  creating build\n",
      "  creating build/lib\n",
      "  creating build/lib/argparse\n",
      "  copying argparse/argparse_cwl_translation.py -> build/lib/argparse\n",
      "  copying argparse/argparse_galaxy_translation.py -> build/lib/argparse\n",
      "  copying argparse/__init__.py -> build/lib/argparse\n",
      "  creating build/lib/argparse2agent\n",
      "  copying argparse2agent/__init__.py -> build/lib/argparse2agent\n",
      "  copying argparse2agent/check_path.py -> build/lib/argparse2agent\n",
      "  creating build/lib/click\n",
      "  copying click/click_cwl_translation.py -> build/lib/click\n",
      "  copying click/__init__.py -> build/lib/click\n",
      "  creating build/lib/argparse2agent/cmdline2gxml\n",
      "  copying argparse2agent/cmdline2gxml/__init__.py -> build/lib/argparse2agent/cmdline2gxml\n",
      "  creating build/lib/argparse2agent/cmdline2cwl\n",
      "  copying argparse2agent/cmdline2cwl/cwl_agent.py -> build/lib/argparse2agent/cmdline2cwl\n",
      "  copying argparse2agent/cmdline2cwl/__init__.py -> build/lib/argparse2agent/cmdline2cwl\n",
      "  running egg_info\n",
      "  writing entry points to argparse2agent.egg-info/entry_points.txt\n",
      "  writing dependency_links to argparse2agent.egg-info/dependency_links.txt\n",
      "  writing argparse2agent.egg-info/PKG-INFO\n",
      "  writing requirements to argparse2agent.egg-info/requires.txt\n",
      "  writing top-level names to argparse2agent.egg-info/top_level.txt\n",
      "  warning: manifest_maker: standard file '-c' not found\n",
      "  \n",
      "  reading manifest file 'argparse2agent.egg-info/SOURCES.txt'\n",
      "  reading manifest template 'MANIFEST.in'\n",
      "  writing manifest file 'argparse2agent.egg-info/SOURCES.txt'\n",
      "  creating build/lib/argparse2agent/cmdline2cwl/templates\n",
      "  copying argparse2agent/cmdline2cwl/templates/cwlagent.j2 -> build/lib/argparse2agent/cmdline2cwl/templates\n",
      "  copying argparse2agent/cmdline2cwl/templates/cwlagent_inputs.j2 -> build/lib/argparse2agent/cmdline2cwl/templates\n",
      "  copying argparse2agent/cmdline2cwl/templates/cwlagent_outputs.j2 -> build/lib/argparse2agent/cmdline2cwl/templates\n",
      "  installing to build/bdist.linux-x86_64/wheel\n",
      "  running install\n",
      "  running install_lib\n",
      "  creating build/bdist.linux-x86_64\n",
      "  creating build/bdist.linux-x86_64/wheel\n",
      "  creating build/bdist.linux-x86_64/wheel/click\n",
      "  copying build/lib/click/click_cwl_translation.py -> build/bdist.linux-x86_64/wheel/click\n",
      "  copying build/lib/click/__init__.py -> build/bdist.linux-x86_64/wheel/click\n",
      "  creating build/bdist.linux-x86_64/wheel/argparse\n",
      "  copying build/lib/argparse/argparse_cwl_translation.py -> build/bdist.linux-x86_64/wheel/argparse\n",
      "  copying build/lib/argparse/argparse_galaxy_translation.py -> build/bdist.linux-x86_64/wheel/argparse\n",
      "  copying build/lib/argparse/__init__.py -> build/bdist.linux-x86_64/wheel/argparse\n",
      "  creating build/bdist.linux-x86_64/wheel/argparse2agent\n",
      "  creating build/bdist.linux-x86_64/wheel/argparse2agent/cmdline2cwl\n",
      "  copying build/lib/argparse2agent/cmdline2cwl/cwl_agent.py -> build/bdist.linux-x86_64/wheel/argparse2agent/cmdline2cwl\n",
      "  creating build/bdist.linux-x86_64/wheel/argparse2agent/cmdline2cwl/templates\n",
      "  copying build/lib/argparse2agent/cmdline2cwl/templates/cwlagent_inputs.j2 -> build/bdist.linux-x86_64/wheel/argparse2agent/cmdline2cwl/templates\n",
      "  copying build/lib/argparse2agent/cmdline2cwl/templates/cwlagent_outputs.j2 -> build/bdist.linux-x86_64/wheel/argparse2agent/cmdline2cwl/templates\n",
      "  copying build/lib/argparse2agent/cmdline2cwl/templates/cwlagent.j2 -> build/bdist.linux-x86_64/wheel/argparse2agent/cmdline2cwl/templates\n",
      "  copying build/lib/argparse2agent/cmdline2cwl/__init__.py -> build/bdist.linux-x86_64/wheel/argparse2agent/cmdline2cwl\n",
      "  creating build/bdist.linux-x86_64/wheel/argparse2agent/cmdline2gxml\n",
      "  copying build/lib/argparse2agent/cmdline2gxml/__init__.py -> build/bdist.linux-x86_64/wheel/argparse2agent/cmdline2gxml\n",
      "  copying build/lib/argparse2agent/__init__.py -> build/bdist.linux-x86_64/wheel/argparse2agent\n",
      "  copying build/lib/argparse2agent/check_path.py -> build/bdist.linux-x86_64/wheel/argparse2agent\n",
      "  running install_egg_info\n",
      "  Copying argparse2agent.egg-info to build/bdist.linux-x86_64/wheel/argparse2agent-0.4.3.post2.egg-info\n",
      "  running install_scripts\n",
      "  Traceback (most recent call last):\n",
      "    File \"<string>\", line 1, in <module>\n",
      "    File \"/tmp/pip-build-0do37j9w/argparse2agent/setup.py\", line 25, in <module>\n",
      "      include_package_data=True,\n",
      "    File \"/usr/lib/python3.5/distutils/core.py\", line 148, in setup\n",
      "      dist.run_commands()\n",
      "    File \"/usr/lib/python3.5/distutils/dist.py\", line 955, in run_commands\n",
      "      self.run_command(cmd)\n",
      "    File \"/usr/lib/python3.5/distutils/dist.py\", line 974, in run_command\n",
      "      cmd_obj.run()\n",
      "    File \"/usr/lib/python3/dist-packages/wheel/bdist_wheel.py\", line 215, in run\n",
      "      self.run_command('install')\n",
      "    File \"/usr/lib/python3.5/distutils/cmd.py\", line 313, in run_command\n",
      "      self.distribution.run_command(command)\n",
      "    File \"/usr/lib/python3.5/distutils/dist.py\", line 974, in run_command\n",
      "      cmd_obj.run()\n",
      "    File \"/usr/lib/python3/dist-packages/setupagents/command/install.py\", line 61, in run\n",
      "      return orig.install.run(self)\n",
      "    File \"/usr/lib/python3.5/distutils/command/install.py\", line 595, in run\n",
      "      self.run_command(cmd_name)\n",
      "    File \"/usr/lib/python3.5/distutils/cmd.py\", line 313, in run_command\n",
      "      self.distribution.run_command(command)\n",
      "    File \"/usr/lib/python3.5/distutils/dist.py\", line 974, in run_command\n",
      "      cmd_obj.run()\n",
      "    File \"/usr/lib/python3/dist-packages/setupagents/command/install_scripts.py\", line 16, in run\n",
      "      import setupagents.command.easy_install as ei\n",
      "    File \"/usr/lib/python3/dist-packages/setupagents/command/easy_install.py\", line 48, in <module>\n",
      "      from setupagents.py31compat import get_path, get_config_vars\n",
      "    File \"/usr/lib/python3/dist-packages/setupagents/py31compat.py\", line 2, in <module>\n",
      "      import unittest\n",
      "    File \"/usr/lib/python3.5/unittest/__init__.py\", line 64, in <module>\n",
      "      from .main import TestProgram, main\n",
      "    File \"/usr/lib/python3.5/unittest/main.py\", line 4, in <module>\n",
      "      import argparse\n",
      "    File \"/tmp/pip-build-0do37j9w/argparse2agent/argparse/__init__.py\", line 10, in <module>\n",
      "      import galaxyxml.agent as gxt\n",
      "  ImportError: No module named 'galaxyxml'\n",
      "  \n",
      "  ----------------------------------------\n",
      "  Failed building wheel for argparse2agent\n",
      "  Running setup.py clean for argparse2agent\n",
      "  Running setup.py bdist_wheel for galaxyxml: started\n",
      "  Running setup.py bdist_wheel for galaxyxml: finished with status 'done'\n",
      "  Stored in directory: /root/.cache/pip/wheels/d1/ea/77/e3b2e462a4608adfd57ccd3f08dc803be41631cd9a0abdea14\n",
      "  Running setup.py bdist_wheel for future: started\n",
      "  Running setup.py bdist_wheel for future: finished with status 'done'\n",
      "  Stored in directory: /root/.cache/pip/wheels/c2/50/7c/0d83b4baac4f63ff7a765bd16390d2ab43c93587fac9d6017a\n",
      "  Running setup.py bdist_wheel for MarkupSafe: started\n",
      "  Running setup.py bdist_wheel for MarkupSafe: finished with status 'done'\n",
      "  Stored in directory: /root/.cache/pip/wheels/88/a7/30/e39a54a87bcbe25308fa3ca64e8ddc75d9b3e5afa21ee32d57\n",
      "Successfully built galaxyxml future MarkupSafe\n",
      "Failed to build argparse2agent\n",
      "Installing collected packages: lxml, galaxyxml, MarkupSafe, jinja2, future, argparse2agent\n"
     ]
    },
    {
     "name": "stdout",
     "output_type": "stream",
     "text": [
      "  Running setup.py install for argparse2agent: started\n",
      "    Running setup.py install for argparse2agent: finished with status 'done'\n",
      "Successfully installed MarkupSafe-1.0 argparse2agent-0.4.3.post2 future-0.16.0 galaxyxml-0.4.0 jinja2-2.9.6 lxml-3.7.3\n"
     ]
    }
   ],
   "source": [
    "for line in exec_command_in_container('pip3 install argparse2agent', CONTAINER_ID):\n",
    "    print(line.decode(\"utf-8\")[:-1])"
   ]
  },
  {
   "cell_type": "markdown",
   "metadata": {},
   "source": [
    "As well as the agent for analysing:"
   ]
  },
  {
   "cell_type": "code",
   "execution_count": 97,
   "metadata": {},
   "outputs": [
    {
     "name": "stdout",
     "output_type": "stream",
     "text": [
      "Collecting agentdog\n",
      "  Downloading agentdog-0.2.0.tar.gz\n",
      "Collecting rdflib (from agentdog)\n",
      "  Downloading rdflib-4.2.2-py3-none-any.whl (344kB)\n",
      "Requirement already satisfied: requests in /usr/lib/python3/dist-packages (from agentdog)\n",
      "Requirement already satisfied: galaxyxml in /usr/local/lib/python3.5/dist-packages (from agentdog)\n",
      "Collecting cwlgen (from agentdog)\n",
      "  Downloading cwlgen-0.1.0.tar.gz\n",
      "Collecting pyparsing (from rdflib->agentdog)\n",
      "  Downloading pyparsing-2.2.0-py2.py3-none-any.whl (56kB)\n",
      "Collecting isodate (from rdflib->agentdog)\n",
      "  Downloading isodate-0.5.4.tar.gz\n",
      "Requirement already satisfied: lxml in /usr/local/lib/python3.5/dist-packages (from galaxyxml->agentdog)\n",
      "Requirement already satisfied: six in /usr/lib/python3/dist-packages (from cwlgen->agentdog)\n",
      "Collecting ruamel.yaml==0.13.13 (from cwlgen->agentdog)\n",
      "  Downloading ruamel.yaml-0.13.13-cp35-cp35m-manylinux1_x86_64.whl (536kB)\n",
      "Building wheels for collected packages: agentdog, cwlgen, isodate\n",
      "  Running setup.py bdist_wheel for agentdog: started\n",
      "  Running setup.py bdist_wheel for agentdog: finished with status 'done'\n",
      "  Stored in directory: /root/.cache/pip/wheels/69/61/26/59bf47f3f6cb6f86fe97126d5e9eb5f5edbf8a576be3c8d890\n",
      "  Running setup.py bdist_wheel for cwlgen: started\n",
      "  Running setup.py bdist_wheel for cwlgen: finished with status 'done'\n",
      "  Stored in directory: /root/.cache/pip/wheels/ef/59/eb/de39a2226114e01698e0b63c35a6d11d5b4bc20fc4c37b8c2d\n",
      "  Running setup.py bdist_wheel for isodate: started\n",
      "  Running setup.py bdist_wheel for isodate: finished with status 'done'\n",
      "  Stored in directory: /root/.cache/pip/wheels/61/c0/d2/6b4a10c222ba9261ab9872a8f05d471652962284e8c677e5e7\n",
      "Successfully built agentdog cwlgen isodate\n",
      "Installing collected packages: pyparsing, isodate, rdflib, ruamel.yaml, cwlgen, agentdog\n",
      "Successfully installed cwlgen-0.1.0 isodate-0.5.4 pyparsing-2.2.0 rdflib-4.2.2 ruamel.yaml-0.13.13 agentdog-0.2.0\n"
     ]
    }
   ],
   "source": [
    "for line in exec_command_in_container('pip3 install ' + TOOL_NAME, CONTAINER_ID):\n",
    "    print(line.decode(\"utf-8\")[:-1])"
   ]
  },
  {
   "cell_type": "markdown",
   "metadata": {},
   "source": [
    "Now we are ready to generate CWL:"
   ]
  },
  {
   "cell_type": "code",
   "execution_count": 98,
   "metadata": {
    "collapsed": true
   },
   "outputs": [],
   "source": [
    "cwl_agent = '' # string representation of cwl agent\n",
    "for line in exec_command_in_container('agentdog --generate_cwl_agent', CONTAINER_ID):\n",
    "    cwl_agent += line.decode(\"utf-8\")[:-1]"
   ]
  },
  {
   "cell_type": "markdown",
   "metadata": {},
   "source": [
    "Write CWL to file:"
   ]
  },
  {
   "cell_type": "code",
   "execution_count": 99,
   "metadata": {
    "collapsed": true
   },
   "outputs": [],
   "source": [
    "write_to_file(OUTPUT_FILENAME, cwl_agent)"
   ]
  },
  {
   "cell_type": "markdown",
   "metadata": {},
   "source": [
    "Finally, let's stop the container. It will be removed automatically."
   ]
  },
  {
   "cell_type": "code",
   "execution_count": 100,
   "metadata": {},
   "outputs": [
    {
     "data": {
      "text/plain": [
       "<callable_iterator at 0x105212cf8>"
      ]
     },
     "execution_count": 100,
     "metadata": {},
     "output_type": "execute_result"
    }
   ],
   "source": [
    "run_command('docker stop ' + CONTAINER_ID)"
   ]
  },
  {
   "cell_type": "code",
   "execution_count": null,
   "metadata": {
    "collapsed": true
   },
   "outputs": [],
   "source": []
  }
 ],
 "metadata": {
  "kernelspec": {
   "display_name": "Python 3",
   "language": "python",
   "name": "python3"
  },
  "language_info": {
   "codemirror_mode": {
    "name": "ipython",
    "version": 3
   },
   "file_extension": ".py",
   "mimetype": "text/x-python",
   "name": "python",
   "nbconvert_exporter": "python",
   "pygments_lexer": "ipython3",
   "version": "3.6.0"
  }
 },
 "nbformat": 4,
 "nbformat_minor": 1
}
